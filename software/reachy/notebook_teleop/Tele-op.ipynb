{
 "cells": [
  {
   "cell_type": "code",
   "execution_count": 1,
   "metadata": {
    "scrolled": true
   },
   "outputs": [],
   "source": [
    "from reachy import Reachy, parts\n",
    "\n",
    "remote_reachy = Reachy(\n",
    "    left_arm=parts.LeftArm(io='/dev/ttyUSB*', hand='force_gripper'),\n",
    "    right_arm=parts.RightArm(io='/dev/ttyUSB*', hand='force_gripper'),\n",
    "    head=parts.Head(io='/dev/ttyUSB*'),\n",
    ")"
   ]
  },
  {
   "cell_type": "code",
   "execution_count": 2,
   "metadata": {},
   "outputs": [
    {
     "name": "stdout",
     "output_type": "stream",
     "text": [
      "new co\n"
     ]
    }
   ],
   "source": [
    "from reachy import Reachy, parts\n",
    "\n",
    "reachy = Reachy(\n",
    "    left_arm=parts.LeftArm(io='ws', hand='force_gripper'),\n",
    "    right_arm=parts.RightArm(io='ws', hand='force_gripper'),\n",
    "    head=parts.Head(io='ws'),\n",
    ")\n",
    "reachy.head.compliant = False"
   ]
  },
  {
   "cell_type": "code",
   "execution_count": 3,
   "metadata": {},
   "outputs": [],
   "source": [
    "from reachy.behavior import TeleOp\n",
    "\n",
    "my_teleop = TeleOp(reachy.left_arm, reachy.right_arm, reachy.head)"
   ]
  },
  {
   "cell_type": "code",
   "execution_count": 4,
   "metadata": {},
   "outputs": [
    {
     "name": "stdout",
     "output_type": "stream",
     "text": [
      "math domain error\n",
      "math domain error\n",
      "math domain error\n",
      "math domain error\n",
      "math domain error\n",
      "math domain error\n",
      "math domain error\n",
      "math domain error\n",
      "math domain error\n",
      "math domain error\n",
      "math domain error\n",
      "math domain error\n",
      "math domain error\n",
      "math domain error\n",
      "math domain error\n",
      "math domain error\n",
      "math domain error\n",
      "math domain error\n",
      "math domain error\n",
      "math domain error\n",
      "math domain error\n",
      "math domain error\n",
      "math domain error\n",
      "math domain error\n",
      "math domain error\n",
      "math domain error\n",
      "math domain error\n",
      "math domain error\n",
      "math domain error\n",
      "math domain error\n",
      "math domain error\n",
      "math domain error\n",
      "math domain error\n",
      "math domain error\n",
      "math domain error\n",
      "math domain error\n",
      "math domain error\n",
      "math domain error\n",
      "math domain error\n",
      "math domain error\n",
      "math domain error\n",
      "math domain error\n",
      "math domain error\n",
      "math domain error\n",
      "math domain error\n",
      "math domain error\n",
      "math domain error\n",
      "math domain error\n",
      "math domain error\n",
      "math domain error\n",
      "math domain error\n",
      "math domain error\n",
      "math domain error\n",
      "math domain error\n",
      "math domain error\n",
      "math domain error\n",
      "math domain error\n",
      "math domain error\n",
      "math domain error\n",
      "math domain error\n",
      "math domain error\n",
      "math domain error\n",
      "math domain error\n",
      "math domain error\n",
      "math domain error\n",
      "math domain error\n",
      "math domain error\n",
      "math domain error\n",
      "math domain error\n",
      "math domain error\n",
      "math domain error\n",
      "math domain error\n",
      "math domain error\n",
      "math domain error\n",
      "math domain error\n",
      "math domain error\n",
      "math domain error\n",
      "math domain error\n",
      "math domain error\n",
      "math domain error\n",
      "math domain error\n",
      "math domain error\n",
      "math domain error\n",
      "math domain error\n",
      "math domain error\n",
      "math domain error\n",
      "math domain error\n",
      "math domain error\n",
      "math domain error\n",
      "math domain error\n",
      "math domain error\n",
      "math domain error\n",
      "math domain error\n"
     ]
    }
   ],
   "source": [
    "my_teleop.start_moving()"
   ]
  },
  {
   "cell_type": "code",
   "execution_count": 5,
   "metadata": {},
   "outputs": [],
   "source": [
    "for m in remote_reachy.motors:\n",
    "    m.compliant = False\n",
    "    m.moving_speed = 150\n",
    "remote_reachy.head.compliant = False"
   ]
  },
  {
   "cell_type": "code",
   "execution_count": null,
   "metadata": {},
   "outputs": [],
   "source": [
    "from operator import attrgetter\n",
    "import time\n",
    "import numpy as np\n",
    "\n",
    "time.sleep(4)\n",
    "\n",
    "while True:\n",
    "    for _ in range(100):\n",
    "        d = {m.name: m.present_position for m in reachy.motors}\n",
    "        d.update({m.name: m.rot_position for m in reachy.head.neck.disks})\n",
    "        for k, v in d.items():\n",
    "            if 'antenna' in k:\n",
    "                continue\n",
    "            if k.startswith('head'):\n",
    "                k = k.replace('head.', 'head.neck.')\n",
    "                m = attrgetter(k)(remote_reachy)\n",
    "                m.target_rot_position = v\n",
    "            else:\n",
    "                m = attrgetter(k)(remote_reachy)\n",
    "                m.goal_position = v\n",
    "        \n",
    "        c = reachy.motors[4].compliant\n",
    "        if(c != remote_reachy.motors[4].compliant):\n",
    "            for m in remote_reachy.motors:\n",
    "                m.compliant = c\n",
    "            remote_reachy.head.compliant = c\n",
    "        \n",
    "        reachy.left_arm.io.ws.real_value_right = remote_reachy.right_arm.hand.gripper.present_position\n",
    "        reachy.left_arm.io.ws.real_value_left = remote_reachy.left_arm.hand.gripper.present_position\n",
    "        \n",
    "        #reachy.left_arm.io.ws.left_grip_force = remote_reachy.left_arm.hand.grip_force\n",
    "        #reachy.left_arm.io.ws.right_grip_force = remote_reachy.right_arm.hand.grip_force\n",
    "            \n",
    "        time.sleep(0.01)\n",
    "        \n",
    "    #print(\n",
    "    #    1 / np.diff(reachy.right_arm.io.ws.last_updates).mean(),\n",
    "    #    1 / np.diff(my_teleop.last_updates).mean(),\n",
    "    #    1 / np.array(my_teleop.last_dts).mean(),\n",
    "    #)        "
   ]
  },
  {
   "cell_type": "code",
   "execution_count": null,
   "metadata": {},
   "outputs": [],
   "source": [
    "import numpy as np\n",
    "import time\n",
    "\n",
    "for _ in range(5):\n",
    "    print(1 / np.diff(reachy.right_arm.io.ws.last_updates).mean())\n",
    "    time.sleep(1)"
   ]
  },
  {
   "cell_type": "code",
   "execution_count": null,
   "metadata": {},
   "outputs": [],
   "source": [
    "import numpy as np\n",
    "import time\n",
    "\n",
    "for _ in range(5):\n",
    "    print(\n",
    "        1 / np.diff(reachy.right_arm.io.ws.last_updates).mean(),\n",
    "        1 / np.diff(my_teleop.last_updates).mean(),\n",
    "        1 / np.array(my_teleop.last_dts).mean(),\n",
    "        np.array(reachy.right_arm.io.ws.send_message).mean(),\n",
    "        np.array(reachy.right_arm.io.ws.get_message).mean(),\n",
    "    )\n",
    "    time.sleep(1)"
   ]
  },
  {
   "cell_type": "code",
   "execution_count": 2,
   "metadata": {},
   "outputs": [
    {
     "data": {
      "text/plain": [
       "[<Orbita \"head.disk_top\" pos=\"-97.04361014121642>,\n",
       " <Orbita \"head.disk_middle\" pos=\"-69.51105528211194>,\n",
       " <Orbita \"head.disk_bottom\" pos=\"-77.3126121222761>]"
      ]
     },
     "execution_count": 2,
     "metadata": {},
     "output_type": "execute_result"
    }
   ],
   "source": [
    "reachy.head.look_at(0.5,-0.2,-0.2, duration=0.2, wait=True)\n",
    "reachy.head.neck.disks"
   ]
  },
  {
   "cell_type": "code",
   "execution_count": null,
   "metadata": {},
   "outputs": [],
   "source": [
    "remote_reachy.head.compliant = False"
   ]
  },
  {
   "cell_type": "code",
   "execution_count": 10,
   "metadata": {},
   "outputs": [
    {
     "data": {
      "text/plain": [
       "[<reachy.trajectory.interpolation.MinimumJerk at 0x7f0236ff3c70>,\n",
       " <reachy.trajectory.interpolation.MinimumJerk at 0x7f0236ff32e0>,\n",
       " <reachy.trajectory.interpolation.MinimumJerk at 0x7f0236fde820>]"
      ]
     },
     "execution_count": 10,
     "metadata": {},
     "output_type": "execute_result"
    },
    {
     "name": "stdout",
     "output_type": "stream",
     "text": [
      "module wrist_fan have been excluded from the network due to no responses.\n",
      "module wrist_fan have been excluded from the network due to no responses.\n",
      "module wrist_fan is excluded.\n",
      "module shoulder_fan have been excluded from the network due to no responses.\n",
      "module wrist_fan is excluded.\n",
      "module shoulder_fan have been excluded from the network due to no responses.\n",
      "module shoulder_fan is excluded.\n",
      "module wrist_fan is excluded.\n",
      "module shoulder_fan is excluded.\n",
      "module wrist_fan is excluded.\n",
      "module shoulder_fan is excluded.\n",
      "module wrist_fan is excluded.\n",
      "module shoulder_fan is excluded.\n",
      "module wrist_fan is excluded.\n",
      "module shoulder_fan is excluded.\n",
      "module wrist_fan is excluded.\n",
      "module shoulder_fan is excluded.\n",
      "module wrist_fan is excluded.\n"
     ]
    }
   ],
   "source": [
    "remote_reachy.head.look_at(0.5,-0.1,0, duration=0.5, wait=True)"
   ]
  },
  {
   "cell_type": "code",
   "execution_count": null,
   "metadata": {},
   "outputs": [],
   "source": [
    "remote_reachy.right_arm.hand.gripper.present_position"
   ]
  },
  {
   "cell_type": "code",
   "execution_count": null,
   "metadata": {},
   "outputs": [],
   "source": [
    "remote_reachy.left_arm.hand.gripper.goal_position = 30"
   ]
  },
  {
   "cell_type": "code",
   "execution_count": null,
   "metadata": {},
   "outputs": [],
   "source": [
    "remote_reachy.left_arm.hand.gripper.compliant = True"
   ]
  },
  {
   "cell_type": "code",
   "execution_count": null,
   "metadata": {},
   "outputs": [],
   "source": [
    "remote_reachy.left_arm.hand.gripper.goal_position = -8"
   ]
  },
  {
   "cell_type": "code",
   "execution_count": null,
   "metadata": {},
   "outputs": [],
   "source": [
    "current_position = [m.present_position for m in remote_reachy.right_arm.motors]\n",
    "print(remote_reachy.right_arm.forward_kinematics(joints_position=current_position))"
   ]
  },
  {
   "cell_type": "code",
   "execution_count": null,
   "metadata": {},
   "outputs": [],
   "source": []
  },
  {
   "cell_type": "code",
   "execution_count": null,
   "metadata": {},
   "outputs": [],
   "source": [
    "reachy.left_arm.io.ws.real_value_right"
   ]
  },
  {
   "cell_type": "code",
   "execution_count": null,
   "metadata": {},
   "outputs": [],
   "source": [
    "remote_reachy.right_arm.hand.grip_force"
   ]
  },
  {
   "cell_type": "code",
   "execution_count": null,
   "metadata": {},
   "outputs": [],
   "source": [
    "remote_reachy.left_arm.hand.grip_force"
   ]
  },
  {
   "cell_type": "code",
   "execution_count": null,
   "metadata": {},
   "outputs": [],
   "source": []
  },
  {
   "cell_type": "code",
   "execution_count": null,
   "metadata": {},
   "outputs": [],
   "source": []
  }
 ],
 "metadata": {
  "kernelspec": {
   "display_name": "Python 3",
   "language": "python",
   "name": "python3"
  },
  "language_info": {
   "codemirror_mode": {
    "name": "ipython",
    "version": 3
   },
   "file_extension": ".py",
   "mimetype": "text/x-python",
   "name": "python",
   "nbconvert_exporter": "python",
   "pygments_lexer": "ipython3",
   "version": "3.8.5"
  }
 },
 "nbformat": 4,
 "nbformat_minor": 4
}
